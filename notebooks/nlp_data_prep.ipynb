{
 "cells": [
  {
   "cell_type": "code",
   "execution_count": 16,
   "metadata": {},
   "outputs": [],
   "source": [
    "import chess\n",
    "import chess.pgn"
   ]
  },
  {
   "cell_type": "code",
   "execution_count": 17,
   "metadata": {},
   "outputs": [
    {
     "name": "stdout",
     "output_type": "stream",
     "text": [
      "0/5000\n",
      "1000/5000\n",
      "2000/5000\n",
      "3000/5000\n",
      "4000/5000\n"
     ]
    }
   ],
   "source": [
    "prom_types = {\n",
    "    5: \"=Q\",\n",
    "    4: \"=R\",\n",
    "    3: \"=B\",\n",
    "    2: \"=N\"\n",
    "}\n",
    "\n",
    "def read_games_from_file(file_path):\n",
    "    games = []\n",
    "    with open(file_path, 'r') as pgn_file:\n",
    "        while True:\n",
    "            game = chess.pgn.read_game(pgn_file)\n",
    "            if game is None:\n",
    "                break\n",
    "            games.append(game)\n",
    "    return games\n",
    "\n",
    "path_prep_pad = \"../data/transformed/full_to_cut.txt\"\n",
    "path_prep = \"../data/transformed/full_to_tokenize.txt\"\n",
    "path = \"../data/raw/full.pgn\"\n",
    "games = read_games_from_file(path)\n",
    "for cnt, game in enumerate(games):\n",
    "    board = chess.Board()\n",
    "    lines = []\n",
    "    line = \"<SOS>\"\n",
    "    for move in game.mainline_moves():\n",
    "        temp_move = \"\"\n",
    "        uci = move.uci()\n",
    "        assert len(uci) >= 4\n",
    "        first = uci[:2]\n",
    "        sec = uci[2:4]\n",
    "        temp_move += first + \" \" + sec\n",
    "        if move.promotion is not None:\n",
    "            temp_move += \" \" + prom_types[int(move.promotion)]\n",
    "        elif board.is_castling(move):\n",
    "            temp_move += \" <CAS>\"\n",
    "        elif board.is_en_passant(move):\n",
    "            temp_move += \" <ENP>\"\n",
    "        temp_move += \" <EOM>\"\n",
    "        board.push(move)\n",
    "        lines.append(line + \"-<SOS> \" + temp_move + \"\\n\")\n",
    "        line += \" \" + temp_move\n",
    "    with open(path_prep_pad, \"+a\") as f:\n",
    "        f.writelines(lines)\n",
    "    if cnt % 1000 == 0:\n",
    "        print(f\"{cnt}/{len(games)}\")\n"
   ]
  },
  {
   "cell_type": "code",
   "execution_count": 19,
   "metadata": {},
   "outputs": [
    {
     "name": "stdout",
     "output_type": "stream",
     "text": [
      "0/455060\n",
      "100000/455060\n",
      "300000/455060\n",
      "400000/455060\n"
     ]
    }
   ],
   "source": [
    "lines = []\n",
    "with open(path_prep_pad, \"r\") as f:\n",
    "    lines = f.readlines()\n",
    "\n",
    "max_x = 0\n",
    "max_y = 0\n",
    "for line in lines:\n",
    "    x, y = line.split(\"-\")\n",
    "    xs = x.split(\" \")\n",
    "    ys = y.split(\" \")\n",
    "    max_x = max(len(xs), max_x)\n",
    "    max_y = max(len(ys), max_y)\n",
    "new_lines = []\n",
    "seq_accepted_len = 200\n",
    "\n",
    "for idx, line in enumerate(lines):\n",
    "    x, y = line.split(\"-\")\n",
    "    xs = x[:-1].split(\" \") if x[-1] == \"<SOS>\" else x.split(\" \")\n",
    "    ys = y[:-1].split(\" \")\n",
    "    to_add = seq_accepted_len - len(xs)\n",
    "    if to_add < 0:\n",
    "        continue\n",
    "    pad = ['<PAD>' for _ in range(to_add)]\n",
    "    xs.extend(pad)\n",
    "    while len(ys) != max_y:\n",
    "        ys.append(\"<PAD>\")\n",
    "    new_x = \" \".join(xs)\n",
    "    new_y = \" \".join(ys)\n",
    "    new_lines.append(new_x+\"-\"+new_y+\"\\n\")\n",
    "    if idx % 100000 == 0:\n",
    "        print(f\"{idx}/{len(lines)}\")\n",
    "\n",
    "with open(path_prep, \"w\") as f:\n",
    "    f.writelines(new_lines)"
   ]
  },
  {
   "cell_type": "code",
   "execution_count": 22,
   "metadata": {},
   "outputs": [
    {
     "name": "stdout",
     "output_type": "stream",
     "text": [
      "0/313825\n",
      "30000/313825\n",
      "60000/313825\n",
      "90000/313825\n",
      "120000/313825\n",
      "150000/313825\n",
      "180000/313825\n",
      "210000/313825\n",
      "240000/313825\n",
      "270000/313825\n",
      "300000/313825\n"
     ]
    }
   ],
   "source": [
    "prep_tokenized_path = \"../data/prep/tokenized.csv\"\n",
    "to_tokenize_path = \"../data/transformed/full_to_tokenize.txt\"\n",
    "vocab_path = \"../src/nlp/vocab.json\"\n",
    "\n",
    "import json\n",
    "import csv\n",
    "\n",
    "with open(vocab_path, \"r\") as f:\n",
    "    vocab = json.load(f)\n",
    "\n",
    "with open(to_tokenize_path, \"r\") as f:\n",
    "    lines = f.readlines()\n",
    "\n",
    "with open(prep_tokenized_path, \"w\") as file:\n",
    "    writer = csv.writer(file)\n",
    "    writer.writerow(['sequence', 'target'])\n",
    "    for idx, line in enumerate(lines):\n",
    "        xs, ys = line[:-1].split('-')\n",
    "        moves_x, moves_y = xs.split(\" \"), ys.split(\" \")\n",
    "        seq = [vocab[word] for word in moves_x]\n",
    "        targets = [vocab[word] for word in moves_y]\n",
    "        writer.writerow([str(seq), str(targets)])\n",
    "        if idx % 30000 == 0:\n",
    "            print(f\"{idx}/{len(lines)}\")"
   ]
  }
 ],
 "metadata": {
  "kernelspec": {
   "display_name": "Python 3",
   "language": "python",
   "name": "python3"
  },
  "language_info": {
   "codemirror_mode": {
    "name": "ipython",
    "version": 3
   },
   "file_extension": ".py",
   "mimetype": "text/x-python",
   "name": "python",
   "nbconvert_exporter": "python",
   "pygments_lexer": "ipython3",
   "version": "3.10.12"
  }
 },
 "nbformat": 4,
 "nbformat_minor": 2
}
