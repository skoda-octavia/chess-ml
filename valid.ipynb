{
  "nbformat": 4,
  "nbformat_minor": 0,
  "metadata": {
    "colab": {
      "provenance": []
    },
    "kernelspec": {
      "name": "python3",
      "display_name": "Python 3"
    },
    "language_info": {
      "name": "python"
    }
  },
  "cells": [
    {
      "cell_type": "code",
      "execution_count": 1,
      "metadata": {
        "colab": {
          "base_uri": "https://localhost:8080/"
        },
        "id": "LYDU2KbJ2hxE",
        "outputId": "aa2fd46c-c05d-412b-aca2-43d59569f257"
      },
      "outputs": [
        {
          "output_type": "stream",
          "name": "stdout",
          "text": [
            "Collecting chess\n",
            "  Downloading chess-1.10.0-py3-none-any.whl (154 kB)\n",
            "\u001b[?25l     \u001b[90m━━━━━━━━━━━━━━━━━━━━━━━━━━━━━━━━━━━━━━━━\u001b[0m \u001b[32m0.0/154.4 kB\u001b[0m \u001b[31m?\u001b[0m eta \u001b[36m-:--:--\u001b[0m\r\u001b[2K     \u001b[90m━━━━━━━━━━━━━━━━━━━━━━━━━━━━━━━━━━━━━━━━\u001b[0m \u001b[32m154.4/154.4 kB\u001b[0m \u001b[31m4.7 MB/s\u001b[0m eta \u001b[36m0:00:00\u001b[0m\n",
            "\u001b[?25hInstalling collected packages: chess\n",
            "Successfully installed chess-1.10.0\n"
          ]
        }
      ],
      "source": [
        "!pip install chess"
      ]
    },
    {
      "cell_type": "code",
      "source": [
        "import chess.pgn\n",
        "import torch\n",
        "import torch.nn as nn\n",
        "import torch.optim as optim\n",
        "import matplotlib.pyplot as plt"
      ],
      "metadata": {
        "id": "aHicF8xg_gT5"
      },
      "execution_count": 2,
      "outputs": []
    },
    {
      "cell_type": "code",
      "source": [
        "def board_to_matrix(board: chess.Board, move: chess.Move):\n",
        "    matrix_board = torch.zeros((6, 8, 8))\n",
        "    matrix_move = torch.zeros((8, 8))\n",
        "\n",
        "    for i in range(8):\n",
        "        for j in range(8):\n",
        "            piece = board.piece_at(chess.square(i, j))\n",
        "            if piece is not None:\n",
        "                piece_type = piece.piece_type\n",
        "                piece_color = piece.color\n",
        "                index = piece_type - 1\n",
        "                if piece_color == chess.WHITE:\n",
        "                    matrix_board[index, 7-j, i] = 1\n",
        "                else:\n",
        "                    matrix_board[index, 7-j, i] = -1\n",
        "                # print(matrix_board)\n",
        "    if board.turn == chess.BLACK:\n",
        "        matrix_board *= -1\n",
        "\n",
        "    file = chess.square_file(move.from_square)\n",
        "    rank = chess.square_rank(move.from_square)\n",
        "    matrix_move[7-rank][file] = 1\n",
        "    # print(matrix_board)\n",
        "    return matrix_board.tolist(), matrix_move.tolist()\n",
        "\n",
        "def main():\n",
        "    pgn = open(\"full.pgn\")\n",
        "    cnt = 0\n",
        "    board_matrix, piece_matrix = [], []\n",
        "\n",
        "    while True:\n",
        "        game = chess.pgn.read_game(pgn)\n",
        "        if game is None:\n",
        "            break\n",
        "        cnt+=1\n",
        "        if cnt % 100 == 0:\n",
        "            print(cnt)\n",
        "\n",
        "        board = game.board()\n",
        "        for move in game.mainline_moves():\n",
        "            if board.turn == chess.WHITE:\n",
        "                matrix_board, matrix_move = board_to_matrix(board, move)\n",
        "                board_matrix.append(matrix_board)\n",
        "                piece_matrix.append(matrix_move)\n",
        "            board.push(move)\n",
        "\n",
        "\n",
        "    X = torch.tensor(board_matrix)\n",
        "    y = torch.tensor(piece_matrix)\n",
        "    torch.save(X, \"X.pt\")\n",
        "    torch.save(y, \"y.pt\")\n",
        "\n",
        "main()"
      ],
      "metadata": {
        "colab": {
          "base_uri": "https://localhost:8080/"
        },
        "id": "fW_kAdOM_t8u",
        "outputId": "e46d04ca-a4c1-4b7c-e2e8-a5dda0e5c64b"
      },
      "execution_count": 3,
      "outputs": [
        {
          "output_type": "stream",
          "name": "stdout",
          "text": [
            "100\n",
            "200\n",
            "300\n",
            "400\n",
            "500\n",
            "600\n",
            "700\n",
            "800\n",
            "900\n",
            "1000\n",
            "1100\n",
            "1200\n",
            "1300\n",
            "1400\n",
            "1500\n",
            "1600\n",
            "1700\n",
            "1800\n",
            "1900\n",
            "2000\n",
            "2100\n",
            "2200\n",
            "2300\n",
            "2400\n",
            "2500\n",
            "2600\n",
            "2700\n",
            "2800\n",
            "2900\n",
            "3000\n",
            "3100\n",
            "3200\n",
            "3300\n",
            "3400\n",
            "3500\n",
            "3600\n",
            "3700\n",
            "3800\n",
            "3900\n",
            "4000\n",
            "4100\n",
            "4200\n",
            "4300\n",
            "4400\n",
            "4500\n",
            "4600\n",
            "4700\n",
            "4800\n",
            "4900\n",
            "5000\n"
          ]
        }
      ]
    },
    {
      "cell_type": "code",
      "source": [
        "def test():\n",
        "    X = torch.load(\"X.pt\")\n",
        "    y = torch.load(\"y.pt\")\n",
        "    assert len(X) == len(y)\n",
        "\n",
        "    ratio = 0.8\n",
        "    idx = int(X.size(0)*ratio)\n",
        "    device = torch.device(\"cuda\" if torch.cuda.is_available() else \"cpu\")\n",
        "    X_train, X_test = X[:idx].to(device), X[idx:].to(device)\n",
        "    Y_train, Y_test = y[:idx].to(device), y[idx:].to(device)\n",
        "    print(torch.cuda.is_available())\n",
        "    print(device)\n",
        "\n",
        "    model = nn.Sequential(\n",
        "        nn.Flatten(),\n",
        "        nn.Linear(8*8*6, 64),\n",
        "        nn.ReLU(),\n",
        "        nn.Linear(64, 32),\n",
        "        nn.ReLU(),\n",
        "        nn.Linear(32, 16),\n",
        "        nn.ReLU(),\n",
        "        nn.Linear(16, 8*8),\n",
        "    ).to(device)\n",
        "\n",
        "    X_train.to(device)\n",
        "    X_test.to(device)\n",
        "    Y_train.to(device)\n",
        "    Y_test.to(device)\n",
        "\n",
        "    criterion = nn.MSELoss()\n",
        "    optimizer = optim.SGD(model.parameters(), lr=0.01)\n",
        "    num_epochs = 3000\n",
        "    eps = []\n",
        "    train_loss = []\n",
        "    valid_loss = []\n",
        "\n",
        "    for epoch in range(num_epochs):\n",
        "        optimizer.zero_grad()\n",
        "        for inputs, labels in zip(X_train, Y_train):\n",
        "          inputs = inputs.view(-1, 8*8*6)\n",
        "          labels = labels.view(-1, 8*8)\n",
        "          output = model(inputs)\n",
        "          loss = criterion(output, labels)\n",
        "          loss.backward()\n",
        "          optimizer.step()\n",
        "        model.eval()\n",
        "\n",
        "        if (epoch+1) % 10 == 0:\n",
        "          total_loss = 0\n",
        "          with torch.no_grad():\n",
        "            for val_inputs, val_labels in zip(X_test, Y_test):\n",
        "                val_inputs = val_inputs.view(-1, 8*8*6)\n",
        "                val_labels = val_labels.view(-1, 8*8)\n",
        "                val_outputs = model(val_inputs)\n",
        "                val_loss = criterion(val_outputs, val_labels)\n",
        "                total_loss += val_loss.item() * val_inputs.size(0)\n",
        "                num_samples += val_inputs.size(0)\n",
        "            avg_val_loss = total_loss / num_samples\n",
        "\n",
        "            print(f'Epoch [{epoch+1}/{num_epochs}], train_loss: {loss.item():.4f}, val_loss: {avg_val_loss}')\n",
        "            eps.append(epoch)\n",
        "            train_loss.append(loss.item())\n",
        "            valid_loss.append(avg_val_loss)\n",
        "\n",
        "    plt.plot(eps, train_loss, label=\"train loss\")\n",
        "    plt.plot(eps, valid_loss, label=\"valid loss\")\n",
        "    plt.xlabel(\"eps\")\n",
        "    plt.ylabel(\"loss\")\n",
        "    plt.legend()\n",
        "    plt.show()\n",
        "\n",
        "\n",
        "if __name__ == \"__main__\":\n",
        "    # main()\n",
        "    test()\n"
      ],
      "metadata": {
        "colab": {
          "base_uri": "https://localhost:8080/"
        },
        "id": "N5BiT_412nBa",
        "outputId": "db22c22c-4f98-44e4-a95f-34fd2bb402c3"
      },
      "execution_count": null,
      "outputs": [
        {
          "output_type": "stream",
          "name": "stdout",
          "text": [
            "True\n",
            "cuda\n"
          ]
        }
      ]
    }
  ]
}